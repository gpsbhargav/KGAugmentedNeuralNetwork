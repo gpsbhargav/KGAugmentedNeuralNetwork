{
 "cells": [
  {
   "cell_type": "code",
   "execution_count": 73,
   "metadata": {},
   "outputs": [],
   "source": [
    "import numpy as np\n",
    "rel_vecs = np.loadtxt(\"relation2vec.bern\")\n",
    "clus = np.loadtxt(\"rel_cluster_labels.txt\")\n",
    "clus = [ int(x) for x in clus ]\n",
    "clus = np.asarray(clus)\n",
    "rel_vecs = rel_vecs[:len(clus)]\n",
    "data = np.zeros(rel_vecs.shape)\n",
    "ids = np.zeros(len(clus))\n",
    "epc = int(rel_vecs.shape[0]/20)\n",
    "start = 0\n",
    "\n",
    "for i in range(20):\n",
    "    end = start+epc\n",
    "    ids[start:end] = np.where(clus==i)[0]\n",
    "    num = ids[start:end]\n",
    "    num = [ int(x) for x in num ]\n",
    "    data[start:end] = rel_vecs[num]\n",
    "    start = start+epc\n",
    "    \n",
    "    "
   ]
  },
  {
   "cell_type": "code",
   "execution_count": 75,
   "metadata": {},
   "outputs": [],
   "source": [
    "ids\n",
    "ids = [ int(x) for x in ids ]\n",
    "ids = np.asarray(ids)"
   ]
  },
  {
   "cell_type": "code",
   "execution_count": 85,
   "metadata": {},
   "outputs": [],
   "source": [
    "np.savetxt(\"Relation_cluster_vectors.txt\",data,fmt = '%f')"
   ]
  },
  {
   "cell_type": "code",
   "execution_count": 84,
   "metadata": {},
   "outputs": [],
   "source": [
    "np.savetxt(\"original_relation_ids.txt\",ids,fmt = '%d')"
   ]
  },
  {
   "cell_type": "code",
   "execution_count": 83,
   "metadata": {},
   "outputs": [
    {
     "data": {
      "text/plain": [
       "array([  28,   29,   46, ..., 1126, 1175, 1298])"
      ]
     },
     "execution_count": 83,
     "metadata": {},
     "output_type": "execute_result"
    }
   ],
   "source": [
    "ids"
   ]
  },
  {
   "cell_type": "code",
   "execution_count": null,
   "metadata": {
    "collapsed": true
   },
   "outputs": [],
   "source": []
  }
 ],
 "metadata": {
  "kernelspec": {
   "display_name": "Python 3",
   "language": "python",
   "name": "python3"
  },
  "language_info": {
   "codemirror_mode": {
    "name": "ipython",
    "version": 3
   },
   "file_extension": ".py",
   "mimetype": "text/x-python",
   "name": "python",
   "nbconvert_exporter": "python",
   "pygments_lexer": "ipython3",
   "version": "3.6.3"
  }
 },
 "nbformat": 4,
 "nbformat_minor": 2
}
