{
 "cells": [
  {
   "cell_type": "code",
   "execution_count": 3,
   "metadata": {},
   "outputs": [],
   "source": [
    "import string\n",
    "import dill as pickle\n",
    "import os\n",
    "import numpy as np"
   ]
  },
  {
   "cell_type": "code",
   "execution_count": 4,
   "metadata": {},
   "outputs": [],
   "source": [
    "def pickler(path,pkl_name,obj):\n",
    "    with open(os.path.join(path, pkl_name), 'wb') as f:\n",
    "        pickle.dump(obj, f, pickle.HIGHEST_PROTOCOL)\n",
    "\n",
    "def unpickler(path,pkl_name):\n",
    "    with open(os.path.join(path, pkl_name) ,'rb') as f:\n",
    "        obj = pickle.load(f)\n",
    "    return obj"
   ]
  },
  {
   "cell_type": "code",
   "execution_count": 5,
   "metadata": {},
   "outputs": [],
   "source": [
    "#common\n",
    "DATA_DIR = \"/home/bhargav/nlu_project/keras_n20/data/Es_Rc\"\n",
    "DOC_PKL = \"document_list.pick\"\n",
    "TARGET_PKL = \"target_list.pick\""
   ]
  },
  {
   "cell_type": "code",
   "execution_count": 6,
   "metadata": {},
   "outputs": [],
   "source": [
    "#20 most common relationships\n",
    "DOC_REL_DIR = \"./data/20_most_common_relationships/\"\n",
    "DOC_REL_PKL = \"doc_2_rel_vectors.pick\"\n",
    "DOC_ENTS = \"entity_vec_list.pick\""
   ]
  },
  {
   "cell_type": "code",
   "execution_count": 21,
   "metadata": {},
   "outputs": [],
   "source": [
    "data = unpickler(DATA_DIR,DOC_PKL)\n",
    "labels = unpickler(DATA_DIR,TARGET_PKL)\n",
    "doc_ents = unpickler(DATA_DIR,DOC_ENTS)\n",
    "doc_rels = unpickler(DOC_REL_DIR,DOC_REL_PKL)"
   ]
  },
  {
   "cell_type": "code",
   "execution_count": 22,
   "metadata": {},
   "outputs": [],
   "source": [
    "VALIDATION_SPLIT = 0.2"
   ]
  },
  {
   "cell_type": "code",
   "execution_count": 23,
   "metadata": {},
   "outputs": [],
   "source": [
    "num_validation_samples = int(VALIDATION_SPLIT * len(data))\n",
    "\n",
    "x_train = data[:-num_validation_samples]\n",
    "y_train = labels[:-num_validation_samples]\n",
    "x_val = data[-num_validation_samples:]\n",
    "y_val = labels[-num_validation_samples:]\n",
    "\n",
    "rels_train = doc_rels[:-num_validation_samples]\n",
    "rels_val = doc_rels[-num_validation_samples:]\n",
    "\n",
    "ents_train = doc_ents[:-num_validation_samples]\n",
    "ents_val = doc_ents[-num_validation_samples:]"
   ]
  },
  {
   "cell_type": "code",
   "execution_count": 28,
   "metadata": {},
   "outputs": [],
   "source": [
    "counts = [y_val.count(x) for x in range(20)]\n",
    "#counts"
   ]
  },
  {
   "cell_type": "code",
   "execution_count": 25,
   "metadata": {},
   "outputs": [],
   "source": [
    "OUT_TRAIN_BASE_PATH = \"./data/fixed_and20_common/train\"\n",
    "OUT_TEST_BASE_PATH = \"./data/fixed_and20_common/test\""
   ]
  },
  {
   "cell_type": "code",
   "execution_count": 29,
   "metadata": {},
   "outputs": [],
   "source": [
    "#train\n",
    "pickler(OUT_TRAIN_BASE_PATH,DOC_PKL,x_train)\n",
    "pickler(OUT_TRAIN_BASE_PATH,TARGET_PKL,y_train)\n",
    "pickler(OUT_TRAIN_BASE_PATH,DOC_ENTS,ents_train)\n",
    "pickler(OUT_TRAIN_BASE_PATH,DOC_REL_PKL,rels_train)"
   ]
  },
  {
   "cell_type": "code",
   "execution_count": 30,
   "metadata": {},
   "outputs": [],
   "source": [
    "#test\n",
    "pickler(OUT_TEST_BASE_PATH,DOC_PKL,x_val)\n",
    "pickler(OUT_TEST_BASE_PATH,TARGET_PKL,y_val)\n",
    "pickler(OUT_TEST_BASE_PATH,DOC_ENTS,ents_val)\n",
    "pickler(OUT_TEST_BASE_PATH,DOC_REL_PKL,rels_val)"
   ]
  },
  {
   "cell_type": "code",
   "execution_count": 33,
   "metadata": {},
   "outputs": [
    {
     "data": {
      "text/plain": [
       "[11, 6, 11, 17, 3, 7, 1, 6, 6, 8]"
      ]
     },
     "execution_count": 33,
     "metadata": {},
     "output_type": "execute_result"
    }
   ],
   "source": [
    "y_val[10:20]"
   ]
  }
 ],
 "metadata": {
  "kernelspec": {
   "display_name": "Python [conda env:nlu]",
   "language": "python",
   "name": "conda-env-nlu-py"
  },
  "language_info": {
   "codemirror_mode": {
    "name": "ipython",
    "version": 3
   },
   "file_extension": ".py",
   "mimetype": "text/x-python",
   "name": "python",
   "nbconvert_exporter": "python",
   "pygments_lexer": "ipython3",
   "version": "3.6.5"
  }
 },
 "nbformat": 4,
 "nbformat_minor": 2
}
